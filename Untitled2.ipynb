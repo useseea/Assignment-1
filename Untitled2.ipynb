{
 "cells": [
  {
   "cell_type": "code",
   "execution_count": 5,
   "id": "ad37eae0-1c96-474d-aed7-483a59e5c89d",
   "metadata": {},
   "outputs": [
    {
     "name": "stdout",
     "output_type": "stream",
     "text": [
      "Modified script saved to DoS1.txt\n"
     ]
    }
   ],
   "source": [
    "import re\n",
    "\n",
    "\n",
    "input_file_path = 'DoS1_modified.txt'  \n",
    "output_file_path = 'DoS1.txt'  \n",
    "\n",
    "\n",
    "with open(input_file_path, 'r', encoding='utf-8') as file:\n",
    "    script_text = file.read()\n",
    "\n",
    "\n",
    "script_text = re.sub(r'\\b[A-Z]+:?\\b(?=:)', '', script_text)\n",
    "\n",
    "\n",
    "script_text = re.sub(r'\\d{1,2} \\w+ \\d{4} Draft \\d+', '', script_text)\n",
    "\n",
    "\n",
    "script_text = re.sub(r'\\(CONT\\'D\\)', '', script_text)\n",
    "\n",
    "\n",
    "script_text = re.sub(r'^(\\d{1,3})\\s+.*\\s+\\1$', '', script_text, flags=re.MULTILINE)\n",
    "\n",
    "\n",
    "with open(output_file_path, 'w', encoding='utf-8') as modified_file:\n",
    "    modified_file.write(script_text)\n",
    "\n",
    "print(f\"Modified script saved to {output_file_path}\")"
   ]
  },
  {
   "cell_type": "code",
   "execution_count": null,
   "id": "4ed132d9-bccb-403f-a54c-68e24a0e07df",
   "metadata": {},
   "outputs": [],
   "source": []
  }
 ],
 "metadata": {
  "kernelspec": {
   "display_name": "Python 3 (ipykernel)",
   "language": "python",
   "name": "python3"
  },
  "language_info": {
   "codemirror_mode": {
    "name": "ipython",
    "version": 3
   },
   "file_extension": ".py",
   "mimetype": "text/x-python",
   "name": "python",
   "nbconvert_exporter": "python",
   "pygments_lexer": "ipython3",
   "version": "3.11.9"
  }
 },
 "nbformat": 4,
 "nbformat_minor": 5
}
